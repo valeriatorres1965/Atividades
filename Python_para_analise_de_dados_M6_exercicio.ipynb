{
  "nbformat": 4,
  "nbformat_minor": 0,
  "metadata": {
    "colab": {
      "provenance": [],
      "authorship_tag": "ABX9TyPKKQtvAvyZZOJYN3d2ULwM",
      "include_colab_link": true
    },
    "kernelspec": {
      "name": "python3",
      "display_name": "Python 3"
    },
    "language_info": {
      "name": "python"
    }
  },
  "cells": [
    {
      "cell_type": "markdown",
      "metadata": {
        "id": "view-in-github",
        "colab_type": "text"
      },
      "source": [
        "<a href=\"https://colab.research.google.com/github/valeriatorres1965/Atividades/blob/main/Python_para_analise_de_dados_M6_exercicio.ipynb\" target=\"_parent\"><img src=\"https://colab.research.google.com/assets/colab-badge.svg\" alt=\"Open In Colab\"/></a>"
      ]
    },
    {
      "cell_type": "markdown",
      "source": [
        "Exercicio 2.6.8 Criar um arquivo credito.csv"
      ],
      "metadata": {
        "id": "93I7BrQoVKlq"
      }
    },
    {
      "cell_type": "markdown",
      "source": [
        "Conforme enunciado, devo criar um arquivo csv, o que o tornará em dataset.\n",
        "A partir desse dataset, terei que mapear, filtrar e gerar funções com o objetivo de elucidar as variáveis respostas."
      ],
      "metadata": {
        "id": "pakKhqpfUEz-"
      }
    },
    {
      "cell_type": "code",
      "execution_count": null,
      "metadata": {
        "colab": {
          "base_uri": "https://localhost:8080/"
        },
        "id": "UrhMv5QcUJAU",
        "outputId": "3450e81c-9d03-4b62-92f1-994c4148920e"
      },
      "outputs": [
        {
          "output_type": "stream",
          "name": "stdout",
          "text": [
            "Writing credito.csv\n"
          ]
        }
      ],
      "source": [
        "%%writefile credito.csv\n",
        "id_vendedor,valor_emprestimos,quantidade_emprestimos,data\n",
        "104271,448.0,1,20161208\n",
        "21476,826.7,3,20161208\n",
        "87440,313.6,3,20161208\n",
        "15980,-8008.0,6,20161208\n",
        "215906,2212.0,5,20161208\n",
        "33696,2771.3,2,20161208\n",
        "33893,2240.0,3,20161208\n",
        "123974,2021.95,2,20161208\n",
        "225870,4039.0,2,20161208"
      ]
    },
    {
      "cell_type": "code",
      "source": [
        "emprestimos = []\n",
        "\n",
        "with open(file='./credito.csv', mode='r', encoding='utf8') as fp:\n",
        "  fp.readline()\n",
        "  linha = fp.readline()\n",
        "  while linha:\n",
        "    linha_emprestimo = {}\n",
        "    linha_elementos = linha.strip().split(sep=',')\n",
        "    linha_emprestimo['id_vendedor'] = linha_elementos[0]\n",
        "    linha_emprestimo['valor_emprestimos'] = linha_elementos[1]\n",
        "    linha_emprestimo['quantidade_emprestimos'] = linha_elementos[2]\n",
        "    linha_emprestimo['data'] = linha_elementos[3]\n",
        "    emprestimos.append(linha_emprestimo)\n",
        "    linha = fp.readline()\n"
      ],
      "metadata": {
        "id": "Ad0RLMQiV71o"
      },
      "execution_count": null,
      "outputs": []
    },
    {
      "cell_type": "code",
      "source": [
        "for emprestimo in emprestimos:\n",
        "  df = emprestimo\n",
        "  print(df['valor_emprestimos'])\n"
      ],
      "metadata": {
        "colab": {
          "base_uri": "https://localhost:8080/"
        },
        "id": "92xUh9wxXNeG",
        "outputId": "f5dfd00f-038e-4a2b-ccf4-e6941c517e7a"
      },
      "execution_count": null,
      "outputs": [
        {
          "output_type": "stream",
          "name": "stdout",
          "text": [
            "448.0\n",
            "826.7\n",
            "313.6\n",
            "-8008.0\n",
            "2212.0\n",
            "2771.3\n",
            "2240.0\n",
            "2021.95\n",
            "4039.0\n"
          ]
        }
      ]
    },
    {
      "cell_type": "markdown",
      "source": [
        "1. Função map()\n",
        "Aplique a função map na lista de emprestimos para extrair os valores das chaves, valor_emprestimos na lista valor_emprestimos_lista. Faça também a conversão de str para float."
      ],
      "metadata": {
        "id": "G33_QyZbXfLh"
      }
    },
    {
      "cell_type": "markdown",
      "source": [
        "Conforme o exercicio, teria que mapear no arquivo uma lista contendo os valores dos emprestimos e converter os valores que se encontram em formato de string, e converter em float.\n",
        "\n",
        "1."
      ],
      "metadata": {
        "id": "_5ge6g-WU-nA"
      }
    },
    {
      "cell_type": "code",
      "source": [
        "valor_emprestimos_lista = []\n",
        "valor_emprestimos_mapa = []\n",
        "\n",
        "valor_emprestimos_mapa = map(lambda valor_emprestimos: float(valor_emprestimos['valor']), emprestimo)\n",
        "valor_emprestimos_lista = list(valor_emprestimos_mapa)\n",
        "print(valor_emprestimos_lista)"
      ],
      "metadata": {
        "id": "mlfSnz0s_8vw"
      },
      "execution_count": null,
      "outputs": []
    },
    {
      "cell_type": "code",
      "source": [
        "def lista_valor_emprestimo(emprestimo, valor, linha_elementos):\n",
        "  return emprestimo\n"
      ],
      "metadata": {
        "id": "0N4iHKcIFjat"
      },
      "execution_count": null,
      "outputs": []
    },
    {
      "cell_type": "code",
      "source": [
        "valor_emprestimos_lista = []\n",
        "\n",
        "valor_emprestimos_lista = map(lista_valor_emprestimo,emprestimo['valor_emprestimos'])\n",
        "\n",
        "print(valor_emprestimos_lista)\n",
        "\n"
      ],
      "metadata": {
        "id": "fpV63PUdveJI"
      },
      "execution_count": null,
      "outputs": []
    },
    {
      "cell_type": "code",
      "source": [],
      "metadata": {
        "id": "UHYIEOl02unD"
      },
      "execution_count": null,
      "outputs": []
    }
  ]
}